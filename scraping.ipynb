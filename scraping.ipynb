{
 "cells": [
  {
   "cell_type": "code",
   "execution_count": 1,
   "metadata": {},
   "outputs": [
    {
     "name": "stderr",
     "output_type": "stream",
     "text": [
      "/Users/kimurakeita/Library/Python/3.9/lib/python/site-packages/urllib3/__init__.py:34: NotOpenSSLWarning: urllib3 v2.0 only supports OpenSSL 1.1.1+, currently the 'ssl' module is compiled with 'LibreSSL 2.8.3'. See: https://github.com/urllib3/urllib3/issues/3020\n",
      "  warnings.warn(\n"
     ]
    }
   ],
   "source": [
    "import requests\n",
    "from bs4 import BeautifulSoup\n",
    "import time"
   ]
  },
  {
   "cell_type": "code",
   "execution_count": 2,
   "metadata": {},
   "outputs": [],
   "source": [
    "url = 'https://www.data.jma.go.jp/obd/stats/etrn/view/hourly_a1.php?prec_no=45&block_no=1236&year=2023&month=12&day=1&view='\n",
    "r = requests.get(url)\n",
    "soup = BeautifulSoup(r.text)\n",
    "\n",
    "contents = soup.find_all('tr',class_='mtx')\n",
    "len(contents)\n",
    "d_list = []\n",
    "contents = soup.find_all('tr',class_='mtx')[2:28]"
   ]
  },
  {
   "cell_type": "code",
   "execution_count": 3,
   "metadata": {},
   "outputs": [],
   "source": [
    "for i in range (24):\n",
    "  content = contents[i]\n",
    "  Time = content.find_all('td')[0].text\n",
    "  Precipitation = content.find_all('td')[1].text\n",
    "  Temperature = content.find_all('td')[2].text\n",
    "  Wind_speed = content.find_all('td')[6].text\n",
    "  d_list.append(Time)\n",
    "  d_list.append(Precipitation)\n",
    "  d_list.append(Temperature)\n",
    "  d_list.append(Wind_speed)"
   ]
  },
  {
   "cell_type": "code",
   "execution_count": 5,
   "metadata": {},
   "outputs": [
    {
     "data": {
      "text/plain": [
       "['1',\n",
       " '0.0',\n",
       " '6.5',\n",
       " '1.1',\n",
       " '2',\n",
       " '0.0',\n",
       " '6.4',\n",
       " '0.7',\n",
       " '3',\n",
       " '0.0',\n",
       " '6.0',\n",
       " '0.5',\n",
       " '4',\n",
       " '0.0',\n",
       " '6.0',\n",
       " '0.7',\n",
       " '5',\n",
       " '0.0',\n",
       " '5.2',\n",
       " '0.7',\n",
       " '6',\n",
       " '0.0',\n",
       " '6.0',\n",
       " '0.9',\n",
       " '7',\n",
       " '0.0',\n",
       " '6.0',\n",
       " '0.6',\n",
       " '8',\n",
       " '0.0',\n",
       " '6.9',\n",
       " '0.7',\n",
       " '9',\n",
       " '0.0',\n",
       " '8.0',\n",
       " '1.1',\n",
       " '10',\n",
       " '0.0',\n",
       " '9.1',\n",
       " '0.8',\n",
       " '11',\n",
       " '0.0',\n",
       " '8.9',\n",
       " '1.3',\n",
       " '12',\n",
       " '0.0',\n",
       " '9.8',\n",
       " '1.3',\n",
       " '13',\n",
       " '0.0',\n",
       " '10.5',\n",
       " '1.5',\n",
       " '14',\n",
       " '0.0',\n",
       " '11.3',\n",
       " '1.9',\n",
       " '15',\n",
       " '0.0',\n",
       " '11.4',\n",
       " '1.4',\n",
       " '16',\n",
       " '0.0',\n",
       " '11.2',\n",
       " '1.0',\n",
       " '17',\n",
       " '0.0',\n",
       " '9.4',\n",
       " '1.0',\n",
       " '18',\n",
       " '0.0',\n",
       " '8.1',\n",
       " '0.9',\n",
       " '19',\n",
       " '0.0',\n",
       " '7.2',\n",
       " '0.3',\n",
       " '20',\n",
       " '0.0',\n",
       " '6.7',\n",
       " '0.9',\n",
       " '21',\n",
       " '0.0',\n",
       " '6.2',\n",
       " '1.2',\n",
       " '22',\n",
       " '0.0',\n",
       " '5.9',\n",
       " '1.4',\n",
       " '23',\n",
       " '0.0',\n",
       " '5.7',\n",
       " '1.0',\n",
       " '24',\n",
       " '0.0',\n",
       " '5.0',\n",
       " '1.0']"
      ]
     },
     "execution_count": 5,
     "metadata": {},
     "output_type": "execute_result"
    }
   ],
   "source": [
    "d_list"
   ]
  }
 ],
 "metadata": {
  "kernelspec": {
   "display_name": "Python 3",
   "language": "python",
   "name": "python3"
  },
  "language_info": {
   "codemirror_mode": {
    "name": "ipython",
    "version": 3
   },
   "file_extension": ".py",
   "mimetype": "text/x-python",
   "name": "python",
   "nbconvert_exporter": "python",
   "pygments_lexer": "ipython3",
   "version": "3.9.6"
  }
 },
 "nbformat": 4,
 "nbformat_minor": 2
}
